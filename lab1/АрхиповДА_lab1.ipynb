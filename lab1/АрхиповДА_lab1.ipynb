{
 "cells": [
  {
   "cell_type": "markdown",
   "metadata": {},
   "source": [
    "Архипов Дмитрий Алексеевич ИВТ-М20."
   ]
  },
  {
   "cell_type": "markdown",
   "metadata": {},
   "source": [
    "Импорт всех необходимых библиотек."
   ]
  },
  {
   "cell_type": "code",
   "execution_count": 1,
   "metadata": {
    "pycharm": {
     "name": "#%% 0\n"
    }
   },
   "outputs": [],
   "source": [
    "import numpy as np\n",
    "from pandas import (\n",
    "DataFrame,\n",
    "read_csv\n",
    ")\n",
    "from sklearn.decomposition import PCA\n",
    "from sklearn.metrics import homogeneity_completeness_v_measure\n",
    "from sklearn.cluster import KMeans\n",
    "from sklearn.cluster import AgglomerativeClustering\n",
    "from sklearn.cluster import SpectralBiclustering\n",
    "import matplotlib.pyplot as plt\n"
   ]
  },
  {
   "cell_type": "markdown",
   "metadata": {},
   "source": [
    "Считываем данные в датафреймы. Для таргета переименовываем колонку для упрощения обращения к оной."
   ]
  },
  {
   "cell_type": "code",
   "execution_count": 2,
   "metadata": {
    "pycharm": {
     "name": "#%%\n"
    }
   },
   "outputs": [],
   "source": [
    "target = DataFrame(read_csv('data/target1.csv', header=0))\n",
    "target.columns = ['index']\n",
    "var = DataFrame(read_csv('data/var1.csv', sep=',', header=None))"
   ]
  },
  {
   "cell_type": "markdown",
   "metadata": {},
   "source": [
    "Трнаспонирование матрицы. Каждый столбец будет спектром с 200 частотами."
   ]
  },
  {
   "cell_type": "code",
   "execution_count": 3,
   "metadata": {
    "pycharm": {
     "name": "#%%\n"
    }
   },
   "outputs": [],
   "source": [
    "varT = var.T\n"
   ]
  },
  {
   "cell_type": "markdown",
   "metadata": {},
   "source": [
    "Начало и конец для исходных матриц, и для транспонированой матрицы."
   ]
  },
  {
   "cell_type": "code",
   "execution_count": 4,
   "metadata": {
    "pycharm": {
     "name": "#%%\n"
    }
   },
   "outputs": [
    {
     "data": {
      "text/html": [
       "<div>\n",
       "<style scoped>\n",
       "    .dataframe tbody tr th:only-of-type {\n",
       "        vertical-align: middle;\n",
       "    }\n",
       "\n",
       "    .dataframe tbody tr th {\n",
       "        vertical-align: top;\n",
       "    }\n",
       "\n",
       "    .dataframe thead th {\n",
       "        text-align: right;\n",
       "    }\n",
       "</style>\n",
       "<table border=\"1\" class=\"dataframe\">\n",
       "  <thead>\n",
       "    <tr style=\"text-align: right;\">\n",
       "      <th></th>\n",
       "      <th>index</th>\n",
       "    </tr>\n",
       "  </thead>\n",
       "  <tbody>\n",
       "    <tr>\n",
       "      <th>0</th>\n",
       "      <td>1</td>\n",
       "    </tr>\n",
       "    <tr>\n",
       "      <th>1</th>\n",
       "      <td>1</td>\n",
       "    </tr>\n",
       "    <tr>\n",
       "      <th>2</th>\n",
       "      <td>1</td>\n",
       "    </tr>\n",
       "    <tr>\n",
       "      <th>3</th>\n",
       "      <td>1</td>\n",
       "    </tr>\n",
       "    <tr>\n",
       "      <th>4</th>\n",
       "      <td>1</td>\n",
       "    </tr>\n",
       "  </tbody>\n",
       "</table>\n",
       "</div>"
      ],
      "text/plain": [
       "   index\n",
       "0      1\n",
       "1      1\n",
       "2      1\n",
       "3      1\n",
       "4      1"
      ]
     },
     "execution_count": 4,
     "metadata": {},
     "output_type": "execute_result"
    }
   ],
   "source": [
    "target.head()"
   ]
  },
  {
   "cell_type": "code",
   "execution_count": 5,
   "metadata": {
    "pycharm": {
     "name": "#%%\n"
    }
   },
   "outputs": [
    {
     "data": {
      "text/html": [
       "<div>\n",
       "<style scoped>\n",
       "    .dataframe tbody tr th:only-of-type {\n",
       "        vertical-align: middle;\n",
       "    }\n",
       "\n",
       "    .dataframe tbody tr th {\n",
       "        vertical-align: top;\n",
       "    }\n",
       "\n",
       "    .dataframe thead th {\n",
       "        text-align: right;\n",
       "    }\n",
       "</style>\n",
       "<table border=\"1\" class=\"dataframe\">\n",
       "  <thead>\n",
       "    <tr style=\"text-align: right;\">\n",
       "      <th></th>\n",
       "      <th>index</th>\n",
       "    </tr>\n",
       "  </thead>\n",
       "  <tbody>\n",
       "    <tr>\n",
       "      <th>55</th>\n",
       "      <td>2</td>\n",
       "    </tr>\n",
       "    <tr>\n",
       "      <th>56</th>\n",
       "      <td>2</td>\n",
       "    </tr>\n",
       "    <tr>\n",
       "      <th>57</th>\n",
       "      <td>2</td>\n",
       "    </tr>\n",
       "    <tr>\n",
       "      <th>58</th>\n",
       "      <td>2</td>\n",
       "    </tr>\n",
       "    <tr>\n",
       "      <th>59</th>\n",
       "      <td>2</td>\n",
       "    </tr>\n",
       "  </tbody>\n",
       "</table>\n",
       "</div>"
      ],
      "text/plain": [
       "    index\n",
       "55      2\n",
       "56      2\n",
       "57      2\n",
       "58      2\n",
       "59      2"
      ]
     },
     "execution_count": 5,
     "metadata": {},
     "output_type": "execute_result"
    }
   ],
   "source": [
    "target.tail()"
   ]
  },
  {
   "cell_type": "code",
   "execution_count": 6,
   "metadata": {
    "pycharm": {
     "name": "#%%\n"
    }
   },
   "outputs": [
    {
     "data": {
      "text/html": [
       "<div>\n",
       "<style scoped>\n",
       "    .dataframe tbody tr th:only-of-type {\n",
       "        vertical-align: middle;\n",
       "    }\n",
       "\n",
       "    .dataframe tbody tr th {\n",
       "        vertical-align: top;\n",
       "    }\n",
       "\n",
       "    .dataframe thead th {\n",
       "        text-align: right;\n",
       "    }\n",
       "</style>\n",
       "<table border=\"1\" class=\"dataframe\">\n",
       "  <thead>\n",
       "    <tr style=\"text-align: right;\">\n",
       "      <th></th>\n",
       "      <th>0</th>\n",
       "      <th>1</th>\n",
       "      <th>2</th>\n",
       "      <th>3</th>\n",
       "      <th>4</th>\n",
       "      <th>5</th>\n",
       "      <th>6</th>\n",
       "      <th>7</th>\n",
       "      <th>8</th>\n",
       "      <th>9</th>\n",
       "      <th>...</th>\n",
       "      <th>190</th>\n",
       "      <th>191</th>\n",
       "      <th>192</th>\n",
       "      <th>193</th>\n",
       "      <th>194</th>\n",
       "      <th>195</th>\n",
       "      <th>196</th>\n",
       "      <th>197</th>\n",
       "      <th>198</th>\n",
       "      <th>199</th>\n",
       "    </tr>\n",
       "  </thead>\n",
       "  <tbody>\n",
       "    <tr>\n",
       "      <th>0</th>\n",
       "      <td>10.660937</td>\n",
       "      <td>8.837976</td>\n",
       "      <td>4.869347</td>\n",
       "      <td>3.841726</td>\n",
       "      <td>2.965282</td>\n",
       "      <td>2.585869</td>\n",
       "      <td>3.414604</td>\n",
       "      <td>2.776011</td>\n",
       "      <td>2.963440</td>\n",
       "      <td>3.396503</td>\n",
       "      <td>...</td>\n",
       "      <td>2.359887</td>\n",
       "      <td>5.101552</td>\n",
       "      <td>5.520378</td>\n",
       "      <td>4.311072</td>\n",
       "      <td>2.429624</td>\n",
       "      <td>3.125680</td>\n",
       "      <td>4.389479</td>\n",
       "      <td>3.460729</td>\n",
       "      <td>4.470180</td>\n",
       "      <td>3.668878</td>\n",
       "    </tr>\n",
       "    <tr>\n",
       "      <th>1</th>\n",
       "      <td>9.266645</td>\n",
       "      <td>8.422462</td>\n",
       "      <td>5.690374</td>\n",
       "      <td>5.288656</td>\n",
       "      <td>5.558424</td>\n",
       "      <td>1.955015</td>\n",
       "      <td>5.256587</td>\n",
       "      <td>2.869178</td>\n",
       "      <td>5.321209</td>\n",
       "      <td>4.062427</td>\n",
       "      <td>...</td>\n",
       "      <td>4.120480</td>\n",
       "      <td>4.008890</td>\n",
       "      <td>4.983994</td>\n",
       "      <td>4.199580</td>\n",
       "      <td>5.584557</td>\n",
       "      <td>3.267026</td>\n",
       "      <td>4.359180</td>\n",
       "      <td>2.608956</td>\n",
       "      <td>3.903345</td>\n",
       "      <td>3.358269</td>\n",
       "    </tr>\n",
       "    <tr>\n",
       "      <th>2</th>\n",
       "      <td>8.163384</td>\n",
       "      <td>7.887574</td>\n",
       "      <td>4.825932</td>\n",
       "      <td>6.759585</td>\n",
       "      <td>7.383261</td>\n",
       "      <td>2.026191</td>\n",
       "      <td>5.790233</td>\n",
       "      <td>3.270219</td>\n",
       "      <td>6.022476</td>\n",
       "      <td>4.891155</td>\n",
       "      <td>...</td>\n",
       "      <td>5.177092</td>\n",
       "      <td>2.816580</td>\n",
       "      <td>4.084300</td>\n",
       "      <td>4.298150</td>\n",
       "      <td>7.288995</td>\n",
       "      <td>3.029492</td>\n",
       "      <td>3.221400</td>\n",
       "      <td>2.454002</td>\n",
       "      <td>2.881283</td>\n",
       "      <td>2.952321</td>\n",
       "    </tr>\n",
       "    <tr>\n",
       "      <th>3</th>\n",
       "      <td>9.291998</td>\n",
       "      <td>8.345648</td>\n",
       "      <td>5.327111</td>\n",
       "      <td>5.093615</td>\n",
       "      <td>5.726576</td>\n",
       "      <td>2.237053</td>\n",
       "      <td>5.256456</td>\n",
       "      <td>1.985642</td>\n",
       "      <td>4.491476</td>\n",
       "      <td>3.652527</td>\n",
       "      <td>...</td>\n",
       "      <td>3.178321</td>\n",
       "      <td>3.634702</td>\n",
       "      <td>5.196330</td>\n",
       "      <td>4.008867</td>\n",
       "      <td>3.669536</td>\n",
       "      <td>2.656386</td>\n",
       "      <td>3.272562</td>\n",
       "      <td>3.670229</td>\n",
       "      <td>3.905332</td>\n",
       "      <td>4.054018</td>\n",
       "    </tr>\n",
       "    <tr>\n",
       "      <th>4</th>\n",
       "      <td>6.683817</td>\n",
       "      <td>6.691520</td>\n",
       "      <td>5.066057</td>\n",
       "      <td>3.972489</td>\n",
       "      <td>3.536099</td>\n",
       "      <td>4.918929</td>\n",
       "      <td>5.183136</td>\n",
       "      <td>4.471352</td>\n",
       "      <td>5.292276</td>\n",
       "      <td>4.060147</td>\n",
       "      <td>...</td>\n",
       "      <td>4.773993</td>\n",
       "      <td>4.965216</td>\n",
       "      <td>6.597458</td>\n",
       "      <td>3.211081</td>\n",
       "      <td>4.389846</td>\n",
       "      <td>3.623183</td>\n",
       "      <td>6.670483</td>\n",
       "      <td>3.329430</td>\n",
       "      <td>5.923117</td>\n",
       "      <td>2.557104</td>\n",
       "    </tr>\n",
       "  </tbody>\n",
       "</table>\n",
       "<p>5 rows × 200 columns</p>\n",
       "</div>"
      ],
      "text/plain": [
       "         0         1         2         3         4         5         6    \\\n",
       "0  10.660937  8.837976  4.869347  3.841726  2.965282  2.585869  3.414604   \n",
       "1   9.266645  8.422462  5.690374  5.288656  5.558424  1.955015  5.256587   \n",
       "2   8.163384  7.887574  4.825932  6.759585  7.383261  2.026191  5.790233   \n",
       "3   9.291998  8.345648  5.327111  5.093615  5.726576  2.237053  5.256456   \n",
       "4   6.683817  6.691520  5.066057  3.972489  3.536099  4.918929  5.183136   \n",
       "\n",
       "        7         8         9    ...       190       191       192       193  \\\n",
       "0  2.776011  2.963440  3.396503  ...  2.359887  5.101552  5.520378  4.311072   \n",
       "1  2.869178  5.321209  4.062427  ...  4.120480  4.008890  4.983994  4.199580   \n",
       "2  3.270219  6.022476  4.891155  ...  5.177092  2.816580  4.084300  4.298150   \n",
       "3  1.985642  4.491476  3.652527  ...  3.178321  3.634702  5.196330  4.008867   \n",
       "4  4.471352  5.292276  4.060147  ...  4.773993  4.965216  6.597458  3.211081   \n",
       "\n",
       "        194       195       196       197       198       199  \n",
       "0  2.429624  3.125680  4.389479  3.460729  4.470180  3.668878  \n",
       "1  5.584557  3.267026  4.359180  2.608956  3.903345  3.358269  \n",
       "2  7.288995  3.029492  3.221400  2.454002  2.881283  2.952321  \n",
       "3  3.669536  2.656386  3.272562  3.670229  3.905332  4.054018  \n",
       "4  4.389846  3.623183  6.670483  3.329430  5.923117  2.557104  \n",
       "\n",
       "[5 rows x 200 columns]"
      ]
     },
     "execution_count": 6,
     "metadata": {},
     "output_type": "execute_result"
    }
   ],
   "source": [
    "var.head()"
   ]
  },
  {
   "cell_type": "code",
   "execution_count": 7,
   "metadata": {
    "pycharm": {
     "name": "#%%\n"
    }
   },
   "outputs": [
    {
     "data": {
      "text/html": [
       "<div>\n",
       "<style scoped>\n",
       "    .dataframe tbody tr th:only-of-type {\n",
       "        vertical-align: middle;\n",
       "    }\n",
       "\n",
       "    .dataframe tbody tr th {\n",
       "        vertical-align: top;\n",
       "    }\n",
       "\n",
       "    .dataframe thead th {\n",
       "        text-align: right;\n",
       "    }\n",
       "</style>\n",
       "<table border=\"1\" class=\"dataframe\">\n",
       "  <thead>\n",
       "    <tr style=\"text-align: right;\">\n",
       "      <th></th>\n",
       "      <th>0</th>\n",
       "      <th>1</th>\n",
       "      <th>2</th>\n",
       "      <th>3</th>\n",
       "      <th>4</th>\n",
       "      <th>5</th>\n",
       "      <th>6</th>\n",
       "      <th>7</th>\n",
       "      <th>8</th>\n",
       "      <th>9</th>\n",
       "      <th>...</th>\n",
       "      <th>190</th>\n",
       "      <th>191</th>\n",
       "      <th>192</th>\n",
       "      <th>193</th>\n",
       "      <th>194</th>\n",
       "      <th>195</th>\n",
       "      <th>196</th>\n",
       "      <th>197</th>\n",
       "      <th>198</th>\n",
       "      <th>199</th>\n",
       "    </tr>\n",
       "  </thead>\n",
       "  <tbody>\n",
       "    <tr>\n",
       "      <th>55</th>\n",
       "      <td>11.920297</td>\n",
       "      <td>10.279770</td>\n",
       "      <td>5.004289</td>\n",
       "      <td>5.714130</td>\n",
       "      <td>4.168375</td>\n",
       "      <td>4.954103</td>\n",
       "      <td>3.960152</td>\n",
       "      <td>4.354246</td>\n",
       "      <td>3.533010</td>\n",
       "      <td>6.294323</td>\n",
       "      <td>...</td>\n",
       "      <td>4.196200</td>\n",
       "      <td>4.480648</td>\n",
       "      <td>4.631163</td>\n",
       "      <td>4.097790</td>\n",
       "      <td>2.889446</td>\n",
       "      <td>4.277942</td>\n",
       "      <td>3.419940</td>\n",
       "      <td>3.798945</td>\n",
       "      <td>5.081380</td>\n",
       "      <td>3.675210</td>\n",
       "    </tr>\n",
       "    <tr>\n",
       "      <th>56</th>\n",
       "      <td>14.603030</td>\n",
       "      <td>12.307543</td>\n",
       "      <td>5.179977</td>\n",
       "      <td>8.198934</td>\n",
       "      <td>7.285317</td>\n",
       "      <td>2.312230</td>\n",
       "      <td>3.968575</td>\n",
       "      <td>4.039847</td>\n",
       "      <td>2.768812</td>\n",
       "      <td>7.655651</td>\n",
       "      <td>...</td>\n",
       "      <td>4.398523</td>\n",
       "      <td>4.099560</td>\n",
       "      <td>1.928128</td>\n",
       "      <td>6.484316</td>\n",
       "      <td>7.382759</td>\n",
       "      <td>4.348785</td>\n",
       "      <td>1.252499</td>\n",
       "      <td>3.023498</td>\n",
       "      <td>2.009719</td>\n",
       "      <td>4.156490</td>\n",
       "    </tr>\n",
       "    <tr>\n",
       "      <th>57</th>\n",
       "      <td>11.889351</td>\n",
       "      <td>10.415799</td>\n",
       "      <td>5.502083</td>\n",
       "      <td>5.684873</td>\n",
       "      <td>4.038633</td>\n",
       "      <td>4.296066</td>\n",
       "      <td>4.154743</td>\n",
       "      <td>4.565117</td>\n",
       "      <td>3.770575</td>\n",
       "      <td>6.477043</td>\n",
       "      <td>...</td>\n",
       "      <td>4.743383</td>\n",
       "      <td>5.140709</td>\n",
       "      <td>4.465879</td>\n",
       "      <td>4.001583</td>\n",
       "      <td>4.049829</td>\n",
       "      <td>3.725290</td>\n",
       "      <td>3.879549</td>\n",
       "      <td>2.883247</td>\n",
       "      <td>4.607514</td>\n",
       "      <td>2.993956</td>\n",
       "    </tr>\n",
       "    <tr>\n",
       "      <th>58</th>\n",
       "      <td>14.830939</td>\n",
       "      <td>11.954417</td>\n",
       "      <td>4.161920</td>\n",
       "      <td>6.599443</td>\n",
       "      <td>4.331671</td>\n",
       "      <td>3.026738</td>\n",
       "      <td>2.149045</td>\n",
       "      <td>4.661237</td>\n",
       "      <td>0.976469</td>\n",
       "      <td>6.946828</td>\n",
       "      <td>...</td>\n",
       "      <td>3.339567</td>\n",
       "      <td>5.464532</td>\n",
       "      <td>2.627844</td>\n",
       "      <td>6.448275</td>\n",
       "      <td>5.388185</td>\n",
       "      <td>4.228943</td>\n",
       "      <td>2.285904</td>\n",
       "      <td>3.233596</td>\n",
       "      <td>2.606208</td>\n",
       "      <td>3.659502</td>\n",
       "    </tr>\n",
       "    <tr>\n",
       "      <th>59</th>\n",
       "      <td>11.112254</td>\n",
       "      <td>9.536774</td>\n",
       "      <td>4.537337</td>\n",
       "      <td>5.745666</td>\n",
       "      <td>4.044630</td>\n",
       "      <td>3.848304</td>\n",
       "      <td>3.572943</td>\n",
       "      <td>4.752922</td>\n",
       "      <td>4.225175</td>\n",
       "      <td>5.779746</td>\n",
       "      <td>...</td>\n",
       "      <td>4.570158</td>\n",
       "      <td>4.354833</td>\n",
       "      <td>4.360597</td>\n",
       "      <td>4.437203</td>\n",
       "      <td>4.744892</td>\n",
       "      <td>4.476239</td>\n",
       "      <td>4.139352</td>\n",
       "      <td>2.703587</td>\n",
       "      <td>4.451271</td>\n",
       "      <td>2.902575</td>\n",
       "    </tr>\n",
       "  </tbody>\n",
       "</table>\n",
       "<p>5 rows × 200 columns</p>\n",
       "</div>"
      ],
      "text/plain": [
       "          0          1         2         3         4         5         6    \\\n",
       "55  11.920297  10.279770  5.004289  5.714130  4.168375  4.954103  3.960152   \n",
       "56  14.603030  12.307543  5.179977  8.198934  7.285317  2.312230  3.968575   \n",
       "57  11.889351  10.415799  5.502083  5.684873  4.038633  4.296066  4.154743   \n",
       "58  14.830939  11.954417  4.161920  6.599443  4.331671  3.026738  2.149045   \n",
       "59  11.112254   9.536774  4.537337  5.745666  4.044630  3.848304  3.572943   \n",
       "\n",
       "         7         8         9    ...       190       191       192       193  \\\n",
       "55  4.354246  3.533010  6.294323  ...  4.196200  4.480648  4.631163  4.097790   \n",
       "56  4.039847  2.768812  7.655651  ...  4.398523  4.099560  1.928128  6.484316   \n",
       "57  4.565117  3.770575  6.477043  ...  4.743383  5.140709  4.465879  4.001583   \n",
       "58  4.661237  0.976469  6.946828  ...  3.339567  5.464532  2.627844  6.448275   \n",
       "59  4.752922  4.225175  5.779746  ...  4.570158  4.354833  4.360597  4.437203   \n",
       "\n",
       "         194       195       196       197       198       199  \n",
       "55  2.889446  4.277942  3.419940  3.798945  5.081380  3.675210  \n",
       "56  7.382759  4.348785  1.252499  3.023498  2.009719  4.156490  \n",
       "57  4.049829  3.725290  3.879549  2.883247  4.607514  2.993956  \n",
       "58  5.388185  4.228943  2.285904  3.233596  2.606208  3.659502  \n",
       "59  4.744892  4.476239  4.139352  2.703587  4.451271  2.902575  \n",
       "\n",
       "[5 rows x 200 columns]"
      ]
     },
     "execution_count": 7,
     "metadata": {},
     "output_type": "execute_result"
    }
   ],
   "source": [
    "var.tail()"
   ]
  },
  {
   "cell_type": "code",
   "execution_count": 8,
   "metadata": {
    "pycharm": {
     "name": "#%%\n"
    }
   },
   "outputs": [
    {
     "data": {
      "text/html": [
       "<div>\n",
       "<style scoped>\n",
       "    .dataframe tbody tr th:only-of-type {\n",
       "        vertical-align: middle;\n",
       "    }\n",
       "\n",
       "    .dataframe tbody tr th {\n",
       "        vertical-align: top;\n",
       "    }\n",
       "\n",
       "    .dataframe thead th {\n",
       "        text-align: right;\n",
       "    }\n",
       "</style>\n",
       "<table border=\"1\" class=\"dataframe\">\n",
       "  <thead>\n",
       "    <tr style=\"text-align: right;\">\n",
       "      <th></th>\n",
       "      <th>0</th>\n",
       "      <th>1</th>\n",
       "      <th>2</th>\n",
       "      <th>3</th>\n",
       "      <th>4</th>\n",
       "      <th>5</th>\n",
       "      <th>6</th>\n",
       "      <th>7</th>\n",
       "      <th>8</th>\n",
       "      <th>9</th>\n",
       "      <th>...</th>\n",
       "      <th>50</th>\n",
       "      <th>51</th>\n",
       "      <th>52</th>\n",
       "      <th>53</th>\n",
       "      <th>54</th>\n",
       "      <th>55</th>\n",
       "      <th>56</th>\n",
       "      <th>57</th>\n",
       "      <th>58</th>\n",
       "      <th>59</th>\n",
       "    </tr>\n",
       "  </thead>\n",
       "  <tbody>\n",
       "    <tr>\n",
       "      <th>0</th>\n",
       "      <td>10.660937</td>\n",
       "      <td>9.266645</td>\n",
       "      <td>8.163384</td>\n",
       "      <td>9.291998</td>\n",
       "      <td>6.683817</td>\n",
       "      <td>11.054668</td>\n",
       "      <td>9.368904</td>\n",
       "      <td>12.977878</td>\n",
       "      <td>9.236626</td>\n",
       "      <td>9.840215</td>\n",
       "      <td>...</td>\n",
       "      <td>11.857264</td>\n",
       "      <td>12.895890</td>\n",
       "      <td>13.134568</td>\n",
       "      <td>11.802193</td>\n",
       "      <td>11.962313</td>\n",
       "      <td>11.920297</td>\n",
       "      <td>14.603030</td>\n",
       "      <td>11.889351</td>\n",
       "      <td>14.830939</td>\n",
       "      <td>11.112254</td>\n",
       "    </tr>\n",
       "    <tr>\n",
       "      <th>1</th>\n",
       "      <td>8.837976</td>\n",
       "      <td>8.422462</td>\n",
       "      <td>7.887574</td>\n",
       "      <td>8.345648</td>\n",
       "      <td>6.691520</td>\n",
       "      <td>9.338379</td>\n",
       "      <td>8.224688</td>\n",
       "      <td>10.295674</td>\n",
       "      <td>8.447220</td>\n",
       "      <td>8.515675</td>\n",
       "      <td>...</td>\n",
       "      <td>11.250785</td>\n",
       "      <td>11.053541</td>\n",
       "      <td>11.016023</td>\n",
       "      <td>10.137686</td>\n",
       "      <td>10.282155</td>\n",
       "      <td>10.279770</td>\n",
       "      <td>12.307543</td>\n",
       "      <td>10.415799</td>\n",
       "      <td>11.954417</td>\n",
       "      <td>9.536774</td>\n",
       "    </tr>\n",
       "    <tr>\n",
       "      <th>2</th>\n",
       "      <td>4.869347</td>\n",
       "      <td>5.690374</td>\n",
       "      <td>4.825932</td>\n",
       "      <td>5.327111</td>\n",
       "      <td>5.066057</td>\n",
       "      <td>4.523733</td>\n",
       "      <td>3.887042</td>\n",
       "      <td>4.310234</td>\n",
       "      <td>6.397357</td>\n",
       "      <td>4.260144</td>\n",
       "      <td>...</td>\n",
       "      <td>7.492301</td>\n",
       "      <td>4.580788</td>\n",
       "      <td>4.626027</td>\n",
       "      <td>3.874202</td>\n",
       "      <td>6.084810</td>\n",
       "      <td>5.004289</td>\n",
       "      <td>5.179977</td>\n",
       "      <td>5.502083</td>\n",
       "      <td>4.161920</td>\n",
       "      <td>4.537337</td>\n",
       "    </tr>\n",
       "    <tr>\n",
       "      <th>3</th>\n",
       "      <td>3.841726</td>\n",
       "      <td>5.288656</td>\n",
       "      <td>6.759585</td>\n",
       "      <td>5.093615</td>\n",
       "      <td>3.972489</td>\n",
       "      <td>6.223527</td>\n",
       "      <td>5.677149</td>\n",
       "      <td>5.818557</td>\n",
       "      <td>4.914216</td>\n",
       "      <td>5.444044</td>\n",
       "      <td>...</td>\n",
       "      <td>8.328328</td>\n",
       "      <td>6.967320</td>\n",
       "      <td>7.288541</td>\n",
       "      <td>6.296687</td>\n",
       "      <td>5.517580</td>\n",
       "      <td>5.714130</td>\n",
       "      <td>8.198934</td>\n",
       "      <td>5.684873</td>\n",
       "      <td>6.599443</td>\n",
       "      <td>5.745666</td>\n",
       "    </tr>\n",
       "    <tr>\n",
       "      <th>4</th>\n",
       "      <td>2.965282</td>\n",
       "      <td>5.558424</td>\n",
       "      <td>7.383261</td>\n",
       "      <td>5.726576</td>\n",
       "      <td>3.536099</td>\n",
       "      <td>6.199316</td>\n",
       "      <td>4.605147</td>\n",
       "      <td>4.160739</td>\n",
       "      <td>4.578611</td>\n",
       "      <td>4.327908</td>\n",
       "      <td>...</td>\n",
       "      <td>9.765597</td>\n",
       "      <td>5.642737</td>\n",
       "      <td>7.000405</td>\n",
       "      <td>4.284659</td>\n",
       "      <td>6.005416</td>\n",
       "      <td>4.168375</td>\n",
       "      <td>7.285317</td>\n",
       "      <td>4.038633</td>\n",
       "      <td>4.331671</td>\n",
       "      <td>4.044630</td>\n",
       "    </tr>\n",
       "  </tbody>\n",
       "</table>\n",
       "<p>5 rows × 60 columns</p>\n",
       "</div>"
      ],
      "text/plain": [
       "          0         1         2         3         4          5         6   \\\n",
       "0  10.660937  9.266645  8.163384  9.291998  6.683817  11.054668  9.368904   \n",
       "1   8.837976  8.422462  7.887574  8.345648  6.691520   9.338379  8.224688   \n",
       "2   4.869347  5.690374  4.825932  5.327111  5.066057   4.523733  3.887042   \n",
       "3   3.841726  5.288656  6.759585  5.093615  3.972489   6.223527  5.677149   \n",
       "4   2.965282  5.558424  7.383261  5.726576  3.536099   6.199316  4.605147   \n",
       "\n",
       "          7         8         9   ...         50         51         52  \\\n",
       "0  12.977878  9.236626  9.840215  ...  11.857264  12.895890  13.134568   \n",
       "1  10.295674  8.447220  8.515675  ...  11.250785  11.053541  11.016023   \n",
       "2   4.310234  6.397357  4.260144  ...   7.492301   4.580788   4.626027   \n",
       "3   5.818557  4.914216  5.444044  ...   8.328328   6.967320   7.288541   \n",
       "4   4.160739  4.578611  4.327908  ...   9.765597   5.642737   7.000405   \n",
       "\n",
       "          53         54         55         56         57         58         59  \n",
       "0  11.802193  11.962313  11.920297  14.603030  11.889351  14.830939  11.112254  \n",
       "1  10.137686  10.282155  10.279770  12.307543  10.415799  11.954417   9.536774  \n",
       "2   3.874202   6.084810   5.004289   5.179977   5.502083   4.161920   4.537337  \n",
       "3   6.296687   5.517580   5.714130   8.198934   5.684873   6.599443   5.745666  \n",
       "4   4.284659   6.005416   4.168375   7.285317   4.038633   4.331671   4.044630  \n",
       "\n",
       "[5 rows x 60 columns]"
      ]
     },
     "execution_count": 8,
     "metadata": {},
     "output_type": "execute_result"
    }
   ],
   "source": [
    "varT.head()"
   ]
  },
  {
   "cell_type": "code",
   "execution_count": 9,
   "metadata": {
    "pycharm": {
     "name": "#%%\n"
    }
   },
   "outputs": [
    {
     "data": {
      "text/html": [
       "<div>\n",
       "<style scoped>\n",
       "    .dataframe tbody tr th:only-of-type {\n",
       "        vertical-align: middle;\n",
       "    }\n",
       "\n",
       "    .dataframe tbody tr th {\n",
       "        vertical-align: top;\n",
       "    }\n",
       "\n",
       "    .dataframe thead th {\n",
       "        text-align: right;\n",
       "    }\n",
       "</style>\n",
       "<table border=\"1\" class=\"dataframe\">\n",
       "  <thead>\n",
       "    <tr style=\"text-align: right;\">\n",
       "      <th></th>\n",
       "      <th>0</th>\n",
       "      <th>1</th>\n",
       "      <th>2</th>\n",
       "      <th>3</th>\n",
       "      <th>4</th>\n",
       "      <th>5</th>\n",
       "      <th>6</th>\n",
       "      <th>7</th>\n",
       "      <th>8</th>\n",
       "      <th>9</th>\n",
       "      <th>...</th>\n",
       "      <th>50</th>\n",
       "      <th>51</th>\n",
       "      <th>52</th>\n",
       "      <th>53</th>\n",
       "      <th>54</th>\n",
       "      <th>55</th>\n",
       "      <th>56</th>\n",
       "      <th>57</th>\n",
       "      <th>58</th>\n",
       "      <th>59</th>\n",
       "    </tr>\n",
       "  </thead>\n",
       "  <tbody>\n",
       "    <tr>\n",
       "      <th>195</th>\n",
       "      <td>3.125680</td>\n",
       "      <td>3.267026</td>\n",
       "      <td>3.029492</td>\n",
       "      <td>2.656386</td>\n",
       "      <td>3.623183</td>\n",
       "      <td>4.330039</td>\n",
       "      <td>4.331383</td>\n",
       "      <td>6.165689</td>\n",
       "      <td>6.248261</td>\n",
       "      <td>4.214335</td>\n",
       "      <td>...</td>\n",
       "      <td>5.077341</td>\n",
       "      <td>4.567783</td>\n",
       "      <td>4.389208</td>\n",
       "      <td>3.262275</td>\n",
       "      <td>4.388935</td>\n",
       "      <td>4.277942</td>\n",
       "      <td>4.348785</td>\n",
       "      <td>3.725290</td>\n",
       "      <td>4.228943</td>\n",
       "      <td>4.476239</td>\n",
       "    </tr>\n",
       "    <tr>\n",
       "      <th>196</th>\n",
       "      <td>4.389479</td>\n",
       "      <td>4.359180</td>\n",
       "      <td>3.221400</td>\n",
       "      <td>3.272562</td>\n",
       "      <td>6.670483</td>\n",
       "      <td>2.454472</td>\n",
       "      <td>4.387610</td>\n",
       "      <td>3.925381</td>\n",
       "      <td>7.037519</td>\n",
       "      <td>4.579577</td>\n",
       "      <td>...</td>\n",
       "      <td>3.234667</td>\n",
       "      <td>2.214661</td>\n",
       "      <td>2.054102</td>\n",
       "      <td>3.423455</td>\n",
       "      <td>3.866602</td>\n",
       "      <td>3.419940</td>\n",
       "      <td>1.252499</td>\n",
       "      <td>3.879549</td>\n",
       "      <td>2.285904</td>\n",
       "      <td>4.139352</td>\n",
       "    </tr>\n",
       "    <tr>\n",
       "      <th>197</th>\n",
       "      <td>3.460729</td>\n",
       "      <td>2.608956</td>\n",
       "      <td>2.454002</td>\n",
       "      <td>3.670229</td>\n",
       "      <td>3.329430</td>\n",
       "      <td>3.826743</td>\n",
       "      <td>2.942408</td>\n",
       "      <td>3.113872</td>\n",
       "      <td>2.900196</td>\n",
       "      <td>2.598997</td>\n",
       "      <td>...</td>\n",
       "      <td>4.024269</td>\n",
       "      <td>4.336321</td>\n",
       "      <td>4.026444</td>\n",
       "      <td>2.767669</td>\n",
       "      <td>4.792355</td>\n",
       "      <td>3.798945</td>\n",
       "      <td>3.023498</td>\n",
       "      <td>2.883247</td>\n",
       "      <td>3.233596</td>\n",
       "      <td>2.703587</td>\n",
       "    </tr>\n",
       "    <tr>\n",
       "      <th>198</th>\n",
       "      <td>4.470180</td>\n",
       "      <td>3.903345</td>\n",
       "      <td>2.881283</td>\n",
       "      <td>3.905332</td>\n",
       "      <td>5.923117</td>\n",
       "      <td>3.707086</td>\n",
       "      <td>4.124207</td>\n",
       "      <td>4.378209</td>\n",
       "      <td>6.493159</td>\n",
       "      <td>4.002899</td>\n",
       "      <td>...</td>\n",
       "      <td>3.596307</td>\n",
       "      <td>4.084645</td>\n",
       "      <td>2.264698</td>\n",
       "      <td>2.674313</td>\n",
       "      <td>4.188550</td>\n",
       "      <td>5.081380</td>\n",
       "      <td>2.009719</td>\n",
       "      <td>4.607514</td>\n",
       "      <td>2.606208</td>\n",
       "      <td>4.451271</td>\n",
       "    </tr>\n",
       "    <tr>\n",
       "      <th>199</th>\n",
       "      <td>3.668878</td>\n",
       "      <td>3.358269</td>\n",
       "      <td>2.952321</td>\n",
       "      <td>4.054018</td>\n",
       "      <td>2.557104</td>\n",
       "      <td>4.528353</td>\n",
       "      <td>2.878989</td>\n",
       "      <td>4.157906</td>\n",
       "      <td>3.649004</td>\n",
       "      <td>2.838819</td>\n",
       "      <td>...</td>\n",
       "      <td>5.109505</td>\n",
       "      <td>4.196226</td>\n",
       "      <td>4.674658</td>\n",
       "      <td>2.420840</td>\n",
       "      <td>5.326448</td>\n",
       "      <td>3.675210</td>\n",
       "      <td>4.156490</td>\n",
       "      <td>2.993956</td>\n",
       "      <td>3.659502</td>\n",
       "      <td>2.902575</td>\n",
       "    </tr>\n",
       "  </tbody>\n",
       "</table>\n",
       "<p>5 rows × 60 columns</p>\n",
       "</div>"
      ],
      "text/plain": [
       "           0         1         2         3         4         5         6   \\\n",
       "195  3.125680  3.267026  3.029492  2.656386  3.623183  4.330039  4.331383   \n",
       "196  4.389479  4.359180  3.221400  3.272562  6.670483  2.454472  4.387610   \n",
       "197  3.460729  2.608956  2.454002  3.670229  3.329430  3.826743  2.942408   \n",
       "198  4.470180  3.903345  2.881283  3.905332  5.923117  3.707086  4.124207   \n",
       "199  3.668878  3.358269  2.952321  4.054018  2.557104  4.528353  2.878989   \n",
       "\n",
       "           7         8         9   ...        50        51        52  \\\n",
       "195  6.165689  6.248261  4.214335  ...  5.077341  4.567783  4.389208   \n",
       "196  3.925381  7.037519  4.579577  ...  3.234667  2.214661  2.054102   \n",
       "197  3.113872  2.900196  2.598997  ...  4.024269  4.336321  4.026444   \n",
       "198  4.378209  6.493159  4.002899  ...  3.596307  4.084645  2.264698   \n",
       "199  4.157906  3.649004  2.838819  ...  5.109505  4.196226  4.674658   \n",
       "\n",
       "           53        54        55        56        57        58        59  \n",
       "195  3.262275  4.388935  4.277942  4.348785  3.725290  4.228943  4.476239  \n",
       "196  3.423455  3.866602  3.419940  1.252499  3.879549  2.285904  4.139352  \n",
       "197  2.767669  4.792355  3.798945  3.023498  2.883247  3.233596  2.703587  \n",
       "198  2.674313  4.188550  5.081380  2.009719  4.607514  2.606208  4.451271  \n",
       "199  2.420840  5.326448  3.675210  4.156490  2.993956  3.659502  2.902575  \n",
       "\n",
       "[5 rows x 60 columns]"
      ]
     },
     "execution_count": 9,
     "metadata": {},
     "output_type": "execute_result"
    }
   ],
   "source": [
    "varT.tail()\n"
   ]
  },
  {
   "cell_type": "markdown",
   "metadata": {},
   "source": [
    "График врменных реализаций каждого спектра."
   ]
  },
  {
   "cell_type": "code",
   "execution_count": 10,
   "metadata": {
    "pycharm": {
     "name": "#%%\n"
    }
   },
   "outputs": [
    {
     "data": {
      "text/plain": [
       "<AxesSubplot:>"
      ]
     },
     "execution_count": 10,
     "metadata": {},
     "output_type": "execute_result"
    },
    {
     "data": {
      "text/plain": [
       "<Figure size 432x288 with 0 Axes>"
      ]
     },
     "metadata": {},
     "output_type": "display_data"
    },
    {
     "data": {
      "image/png": "[encoded data removed]",
      "text/plain": [
       "<Figure size 432x288 with 1 Axes>"
      ]
     },
     "metadata": {
      "needs_background": "light"
     },
     "output_type": "display_data"
    }
   ],
   "source": [
    "varCS = varT.cumsum(axis=0)\n",
    "plt.figure()\n",
    "varCS.plot(legend=False)"
   ]
  },
  {
   "cell_type": "markdown",
   "metadata": {},
   "source": [
    "График временной реализации для двух случайных спектров"
   ]
  },
  {
   "cell_type": "code",
   "execution_count": 11,
   "metadata": {
    "pycharm": {
     "name": "#%%\n"
    }
   },
   "outputs": [
    {
     "data": {
      "text/plain": [
       "<AxesSubplot:>"
      ]
     },
     "execution_count": 11,
     "metadata": {},
     "output_type": "execute_result"
    },
    {
     "data": {
      "image/png": "[encoded data removed]",
      "text/plain": [
       "<Figure size 432x288 with 1 Axes>"
      ]
     },
     "metadata": {
      "needs_background": "light"
     },
     "output_type": "display_data"
    }
   ],
   "source": [
    "varCS[59].plot(legend=False)"
   ]
  },
  {
   "cell_type": "code",
   "execution_count": 12,
   "metadata": {
    "pycharm": {
     "name": "#%%\n"
    }
   },
   "outputs": [
    {
     "data": {
      "text/plain": [
       "<AxesSubplot:>"
      ]
     },
     "execution_count": 12,
     "metadata": {},
     "output_type": "execute_result"
    },
    {
     "data": {
      "image/png": "[encoded data removed]",
      "text/plain": [
       "<Figure size 432x288 with 1 Axes>"
      ]
     },
     "metadata": {
      "needs_background": "light"
     },
     "output_type": "display_data"
    }
   ],
   "source": [
    "varCS[13].plot(legend=False)\n"
   ]
  },
  {
   "cell_type": "markdown",
   "metadata": {},
   "source": [
    "Мощность каждого спектра."
   ]
  },
  {
   "cell_type": "code",
   "execution_count": 13,
   "metadata": {
    "pycharm": {
     "name": "#%% 1\n"
    }
   },
   "outputs": [
    {
     "name": "stdout",
     "output_type": "stream",
     "text": [
      "0     1655.2\n",
      "1     1796.4\n",
      "2     1730.1\n",
      "3     1681.8\n",
      "4     1659.5\n",
      "5     1664.4\n",
      "6     1634.7\n",
      "7     1738.3\n",
      "8     1905.2\n",
      "9     1689.1\n",
      "10    1631.4\n",
      "11    1851.7\n",
      "12    1560.7\n",
      "13    1796.3\n",
      "14    1704.3\n",
      "15    1926.6\n",
      "16    1922.2\n",
      "17    1640.7\n",
      "18    1663.7\n",
      "19    1744.8\n",
      "20    1696.5\n",
      "21    1591.1\n",
      "22    1383.6\n",
      "23    1713.9\n",
      "24    1816.9\n",
      "25    1549.5\n",
      "26    1468.2\n",
      "27    1661.7\n",
      "28    1671.7\n",
      "29    1686.3\n",
      "30    1740.8\n",
      "31    1684.9\n",
      "32    1717.4\n",
      "33    1582.8\n",
      "34    1689.1\n",
      "35    1507.8\n",
      "36    1575.4\n",
      "37    1715.1\n",
      "38    1602.2\n",
      "39    1940.3\n",
      "40    1591.9\n",
      "41    1723.7\n",
      "42    1684.8\n",
      "43    1732.3\n",
      "44    1650.9\n",
      "45    1696.4\n",
      "46    1810.3\n",
      "47    1777.6\n",
      "48    1855.2\n",
      "49    1666.0\n",
      "50    1798.3\n",
      "51    1504.3\n",
      "52    1595.8\n",
      "53    1514.8\n",
      "54    1671.5\n",
      "55    1576.4\n",
      "56    1663.7\n",
      "57    1647.3\n",
      "58    1561.5\n",
      "59    1662.4\n",
      "dtype: float64\n"
     ]
    }
   ],
   "source": [
    "varPower = round(varT.sum(axis = 0), 1)\n",
    "print(varPower)\n"
   ]
  },
  {
   "cell_type": "markdown",
   "metadata": {
    "pycharm": {
     "name": "#%% md\n"
    }
   },
   "source": [
    "График распределения целевой переменной target. И фиксация начала кризиса."
   ]
  },
  {
   "cell_type": "code",
   "execution_count": 14,
   "metadata": {
    "pycharm": {
     "name": "#%%\n"
    }
   },
   "outputs": [
    {
     "name": "stdout",
     "output_type": "stream",
     "text": [
      "30\n"
     ]
    },
    {
     "data": {
      "image/png": "[encoded data removed]",
      "text/plain": [
       "<Figure size 432x288 with 1 Axes>"
      ]
     },
     "metadata": {
      "needs_background": "light"
     },
     "output_type": "display_data"
    }
   ],
   "source": [
    "target.plot()\n",
    "targetTimed = target\n",
    "targetTimed['time'] = target.index\n",
    "#print(target)\n",
    "crysisLine = targetTimed[targetTimed['index']>=2].iloc[0]['time']\n",
    "print(crysisLine)\n"
   ]
  },
  {
   "cell_type": "markdown",
   "metadata": {},
   "source": [
    "График мощности спектра с указанием начала кризиса."
   ]
  },
  {
   "cell_type": "code",
   "execution_count": 15,
   "metadata": {
    "pycharm": {
     "name": "#%%\n"
    }
   },
   "outputs": [
    {
     "data": {
      "text/plain": [
       "<matplotlib.lines.Line2D at 0x20bbaa32088>"
      ]
     },
     "execution_count": 15,
     "metadata": {},
     "output_type": "execute_result"
    },
    {
     "data": {
      "image/png": "[encoded data removed]",
      "text/plain": [
       "<Figure size 432x288 with 1 Axes>"
      ]
     },
     "metadata": {
      "needs_background": "light"
     },
     "output_type": "display_data"
    }
   ],
   "source": [
    "varplot = varPower.plot()\n",
    "varplot.axvline(x = crysisLine, color='r')\n"
   ]
  },
  {
   "cell_type": "markdown",
   "metadata": {},
   "source": [
    "Описательные статистики мощностей до и после начала кризиса."
   ]
  },
  {
   "cell_type": "code",
   "execution_count": 16,
   "metadata": {
    "pycharm": {
     "name": "#%%\n"
    }
   },
   "outputs": [
    {
     "data": {
      "text/plain": [
       "count      60.000000\n",
       "mean     1682.956667\n",
       "std       112.291545\n",
       "min      1383.600000\n",
       "25%      1624.100000\n",
       "50%      1676.750000\n",
       "75%      1733.800000\n",
       "max      1940.300000\n",
       "dtype: float64"
      ]
     },
     "execution_count": 16,
     "metadata": {},
     "output_type": "execute_result"
    }
   ],
   "source": [
    "varPowerBefore = varPower[0:crysisLine]\n",
    "varPowerAfter = varPower[crysisLine:]\n",
    "varPower.describe()\n"
   ]
  },
  {
   "cell_type": "code",
   "execution_count": 17,
   "metadata": {
    "pycharm": {
     "name": "#%%\n"
    }
   },
   "outputs": [
    {
     "name": "stdout",
     "output_type": "stream",
     "text": [
      "count      30.000000\n",
      "mean     1694.550000\n",
      "std       121.933271\n",
      "min      1383.600000\n",
      "25%      1644.325000\n",
      "50%      1684.050000\n",
      "75%      1743.175000\n",
      "max      1926.600000\n",
      "dtype: float64\n"
     ]
    }
   ],
   "source": [
    "varPBboxplot = varPowerBefore.describe()\n",
    "print(varPBboxplot)"
   ]
  },
  {
   "cell_type": "code",
   "execution_count": 18,
   "metadata": {
    "pycharm": {
     "name": "#%%\n"
    }
   },
   "outputs": [
    {
     "name": "stdout",
     "output_type": "stream",
     "text": [
      "count      30.000000\n",
      "mean     1671.363333\n",
      "std       102.507492\n",
      "min      1504.300000\n",
      "25%      1592.875000\n",
      "50%      1668.750000\n",
      "75%      1722.125000\n",
      "max      1940.300000\n",
      "dtype: float64\n"
     ]
    }
   ],
   "source": [
    "varPAboxplot = varPowerAfter.describe()\n",
    "print(varPAboxplot)\n"
   ]
  },
  {
   "cell_type": "markdown",
   "metadata": {},
   "source": [
    "Длбавление к графику средние значения мощности спектра до кризиса и после."
   ]
  },
  {
   "cell_type": "code",
   "execution_count": 19,
   "metadata": {
    "pycharm": {
     "name": "#%%\n"
    }
   },
   "outputs": [
    {
     "name": "stdout",
     "output_type": "stream",
     "text": [
      "1671.3633333333335\n",
      "1694.5499999999997\n"
     ]
    },
    {
     "data": {
      "text/plain": [
       "<matplotlib.lines.Line2D at 0x20bbab10a88>"
      ]
     },
     "execution_count": 19,
     "metadata": {},
     "output_type": "execute_result"
    },
    {
     "data": {
      "image/png": "[encoded data removed]",
      "text/plain": [
       "<Figure size 432x288 with 1 Axes>"
      ]
     },
     "metadata": {
      "needs_background": "light"
     },
     "output_type": "display_data"
    }
   ],
   "source": [
    "print(varPowerAfter.mean())\n",
    "print(varPowerBefore.mean())\n",
    "\n",
    "varplot = varPower.plot()\n",
    "varplot.axvline(x = crysisLine, color='r')\n",
    "varplot.axhline(y = varPowerAfter.mean(), color='g', linestyle = '--')\n",
    "varplot.axhline(y = varPowerBefore.mean(), color='b', linestyle = '--')\n"
   ]
  },
  {
   "cell_type": "markdown",
   "metadata": {},
   "source": [
    "График боксплотов мощности спектра до кризиса и после."
   ]
  },
  {
   "cell_type": "code",
   "execution_count": 20,
   "metadata": {
    "pycharm": {
     "name": "#%%\n"
    }
   },
   "outputs": [
    {
     "data": {
      "text/plain": [
       "{'whiskers': [<matplotlib.lines.Line2D at 0x20bbab61a88>,\n",
       "  <matplotlib.lines.Line2D at 0x20bbab76b08>,\n",
       "  <matplotlib.lines.Line2D at 0x20bbab87c08>,\n",
       "  <matplotlib.lines.Line2D at 0x20bbab80ac8>],\n",
       " 'caps': [<matplotlib.lines.Line2D at 0x20bbab7ae08>,\n",
       "  <matplotlib.lines.Line2D at 0x20bbab7ad48>,\n",
       "  <matplotlib.lines.Line2D at 0x20bbab8ce88>,\n",
       "  <matplotlib.lines.Line2D at 0x20bbab8cf08>],\n",
       " 'boxes': [<matplotlib.lines.Line2D at 0x20bbab76948>,\n",
       "  <matplotlib.lines.Line2D at 0x20bbab80d48>],\n",
       " 'medians': [<matplotlib.lines.Line2D at 0x20bbab7af48>,\n",
       "  <matplotlib.lines.Line2D at 0x20bbab94bc8>],\n",
       " 'fliers': [<matplotlib.lines.Line2D at 0x20bbab80bc8>,\n",
       "  <matplotlib.lines.Line2D at 0x20bbab94c48>],\n",
       " 'means': []}"
      ]
     },
     "execution_count": 20,
     "metadata": {},
     "output_type": "execute_result"
    },
    {
     "data": {
      "image/png": "[encoded data removed]",
      "text/plain": [
       "<Figure size 432x288 with 1 Axes>"
      ]
     },
     "metadata": {
      "needs_background": "light"
     },
     "output_type": "display_data"
    }
   ],
   "source": [
    "data = [varPBboxplot, varPAboxplot]\n",
    "fig1, ax1 = plt.subplots()\n",
    "ax1.set_title('Powers boxplot')\n",
    "ax1.boxplot(data)\n"
   ]
  },
  {
   "cell_type": "markdown",
   "metadata": {},
   "source": [
    "По итогу за счет графика временной реализации спектров можно заметить ступенчатый переход в частотах.\n",
    "Из графиков мощности не удалось подчерпнуть полезной информации.\n",
    "Аналогичная ситуация с боксплотами."
   ]
  },
  {
   "cell_type": "markdown",
   "metadata": {},
   "source": [
    "Работа с частотой спектра."
   ]
  },
  {
   "cell_type": "markdown",
   "metadata": {},
   "source": [
    "Находим среднюю частоту спектра."
   ]
  },
  {
   "cell_type": "code",
   "execution_count": 21,
   "metadata": {
    "pycharm": {
     "name": "#%% 2\n"
    }
   },
   "outputs": [
    {
     "name": "stdout",
     "output_type": "stream",
     "text": [
      "0     15.1\n",
      "1     15.6\n",
      "2     14.0\n",
      "3     14.6\n",
      "4     14.1\n",
      "5     14.2\n",
      "6     13.2\n",
      "7     15.5\n",
      "8     17.5\n",
      "9     13.9\n",
      "10    14.0\n",
      "11    16.1\n",
      "12    13.3\n",
      "13    15.6\n",
      "14    15.3\n",
      "15    18.3\n",
      "16    18.7\n",
      "17    13.3\n",
      "18    15.0\n",
      "19    14.4\n",
      "20    15.8\n",
      "21    13.6\n",
      "22    16.0\n",
      "23    16.0\n",
      "24    16.8\n",
      "25    13.4\n",
      "26    12.7\n",
      "27    14.3\n",
      "28    13.9\n",
      "29    14.5\n",
      "30    15.9\n",
      "31    13.1\n",
      "32    12.9\n",
      "33    16.1\n",
      "34    13.2\n",
      "35    18.5\n",
      "36    15.5\n",
      "37    14.2\n",
      "38    13.4\n",
      "39    15.0\n",
      "40    13.3\n",
      "41    15.0\n",
      "42    13.3\n",
      "43    13.4\n",
      "44    14.4\n",
      "45    15.6\n",
      "46    14.1\n",
      "47    14.2\n",
      "48    14.8\n",
      "49    12.9\n",
      "50    14.3\n",
      "51    15.4\n",
      "52    14.2\n",
      "53    14.8\n",
      "54    13.2\n",
      "55    13.5\n",
      "56    15.8\n",
      "57    13.6\n",
      "58    16.6\n",
      "59    13.4\n",
      "dtype: float64\n"
     ]
    }
   ],
   "source": [
    "varFreq = round(varT.pow(2).sum(axis = 0), 1)\n",
    "varPowerFrequency = round(varFreq/varPower, 1)\n",
    "print(varPowerFrequency)\n"
   ]
  },
  {
   "cell_type": "markdown",
   "metadata": {},
   "source": [
    "График частоты с указанием момнта началы кризиса."
   ]
  },
  {
   "cell_type": "code",
   "execution_count": 22,
   "metadata": {
    "pycharm": {
     "name": "#%%\n"
    }
   },
   "outputs": [
    {
     "data": {
      "text/plain": [
       "<matplotlib.lines.Line2D at 0x20bbabd1d88>"
      ]
     },
     "execution_count": 22,
     "metadata": {},
     "output_type": "execute_result"
    },
    {
     "data": {
      "image/png": "[encoded data removed]",
      "text/plain": [
       "<Figure size 432x288 with 1 Axes>"
      ]
     },
     "metadata": {
      "needs_background": "light"
     },
     "output_type": "display_data"
    }
   ],
   "source": [
    "varplot = varPowerFrequency.plot()\n",
    "varplot.axvline(x = crysisLine, color='r')\n"
   ]
  },
  {
   "cell_type": "markdown",
   "metadata": {},
   "source": [
    "Описательные статистики частот до и после начала кризиса."
   ]
  },
  {
   "cell_type": "code",
   "execution_count": 23,
   "metadata": {
    "pycharm": {
     "name": "#%%\n"
    }
   },
   "outputs": [
    {
     "data": {
      "text/plain": [
       "count    60.000000\n",
       "mean     14.705000\n",
       "std       1.415462\n",
       "min      12.700000\n",
       "25%      13.475000\n",
       "50%      14.350000\n",
       "75%      15.600000\n",
       "max      18.700000\n",
       "dtype: float64"
      ]
     },
     "execution_count": 23,
     "metadata": {},
     "output_type": "execute_result"
    }
   ],
   "source": [
    "varPowerFreqBefore = varPowerFrequency[0:crysisLine]\n",
    "varPowerFreqAfter = varPowerFrequency[crysisLine:]\n",
    "varPowerFrequency.describe()"
   ]
  },
  {
   "cell_type": "code",
   "execution_count": 24,
   "metadata": {
    "pycharm": {
     "name": "#%%\n"
    }
   },
   "outputs": [
    {
     "name": "stdout",
     "output_type": "stream",
     "text": [
      "count      30.000000\n",
      "mean     1694.550000\n",
      "std       121.933271\n",
      "min      1383.600000\n",
      "25%      1644.325000\n",
      "50%      1684.050000\n",
      "75%      1743.175000\n",
      "max      1926.600000\n",
      "dtype: float64\n"
     ]
    }
   ],
   "source": [
    "varPBFreqboxplot = varPowerFreqBefore.describe()\n",
    "print(varPBboxplot)"
   ]
  },
  {
   "cell_type": "code",
   "execution_count": 25,
   "metadata": {
    "pycharm": {
     "name": "#%%\n"
    }
   },
   "outputs": [
    {
     "name": "stdout",
     "output_type": "stream",
     "text": [
      "count      30.000000\n",
      "mean     1671.363333\n",
      "std       102.507492\n",
      "min      1504.300000\n",
      "25%      1592.875000\n",
      "50%      1668.750000\n",
      "75%      1722.125000\n",
      "max      1940.300000\n",
      "dtype: float64\n"
     ]
    }
   ],
   "source": [
    "varPAFreqboxplot = varPowerFreqAfter.describe()\n",
    "print(varPAboxplot)\n"
   ]
  },
  {
   "cell_type": "markdown",
   "metadata": {},
   "source": [
    "Добавление к существующему графику средних значений частот до и после кризиса."
   ]
  },
  {
   "cell_type": "code",
   "execution_count": 26,
   "metadata": {
    "pycharm": {
     "name": "#%%\n"
    }
   },
   "outputs": [
    {
     "name": "stdout",
     "output_type": "stream",
     "text": [
      "14.453333333333335\n",
      "14.956666666666665\n"
     ]
    },
    {
     "data": {
      "text/plain": [
       "<matplotlib.lines.Line2D at 0x20bbac8ba48>"
      ]
     },
     "execution_count": 26,
     "metadata": {},
     "output_type": "execute_result"
    },
    {
     "data": {
      "image/png": "[encoded data removed]",
      "text/plain": [
       "<Figure size 432x288 with 1 Axes>"
      ]
     },
     "metadata": {
      "needs_background": "light"
     },
     "output_type": "display_data"
    }
   ],
   "source": [
    "print(varPowerFreqAfter.mean())\n",
    "print(varPowerFreqBefore.mean())\n",
    "\n",
    "varplot = varPowerFrequency.plot()\n",
    "varplot.axvline(x = crysisLine, color='r')\n",
    "varplot.axhline(y = varPowerFreqAfter.mean(), color='g', linestyle = '--')\n",
    "varplot.axhline(y = varPowerFreqBefore.mean(), color='b', linestyle = '--')\n"
   ]
  },
  {
   "cell_type": "markdown",
   "metadata": {},
   "source": [
    "График боксплотов частот до и после кризиса"
   ]
  },
  {
   "cell_type": "code",
   "execution_count": 27,
   "metadata": {
    "pycharm": {
     "name": "#%%\n"
    }
   },
   "outputs": [
    {
     "data": {
      "text/plain": [
       "{'whiskers': [<matplotlib.lines.Line2D at 0x20bbaccea88>,\n",
       "  <matplotlib.lines.Line2D at 0x20bbacefe88>,\n",
       "  <matplotlib.lines.Line2D at 0x20bbacfcc08>,\n",
       "  <matplotlib.lines.Line2D at 0x20bbacfc248>],\n",
       " 'caps': [<matplotlib.lines.Line2D at 0x20bbacefdc8>,\n",
       "  <matplotlib.lines.Line2D at 0x20bbaceffc8>,\n",
       "  <matplotlib.lines.Line2D at 0x20bbad03e08>,\n",
       "  <matplotlib.lines.Line2D at 0x20bbad09c88>],\n",
       " 'boxes': [<matplotlib.lines.Line2D at 0x20bbacef088>,\n",
       "  <matplotlib.lines.Line2D at 0x20bbacfc988>],\n",
       " 'medians': [<matplotlib.lines.Line2D at 0x20bbacf6b88>,\n",
       "  <matplotlib.lines.Line2D at 0x20bbad09bc8>],\n",
       " 'fliers': [<matplotlib.lines.Line2D at 0x20bbacf6d88>,\n",
       "  <matplotlib.lines.Line2D at 0x20bbad09dc8>],\n",
       " 'means': []}"
      ]
     },
     "execution_count": 27,
     "metadata": {},
     "output_type": "execute_result"
    },
    {
     "data": {
      "image/png": "[encoded data removed]",
      "text/plain": [
       "<Figure size 432x288 with 1 Axes>"
      ]
     },
     "metadata": {
      "needs_background": "light"
     },
     "output_type": "display_data"
    }
   ],
   "source": [
    "data = [varPBFreqboxplot, varPAFreqboxplot]\n",
    "fig1, ax1 = plt.subplots()\n",
    "ax1.set_title('Basic Plot')\n",
    "ax1.boxplot(data)"
   ]
  },
  {
   "cell_type": "markdown",
   "metadata": {
    "pycharm": {
     "name": "#%% md\n"
    }
   },
   "source": [
    "По итогу:\n",
    "Из графиков мощности не удалось подчерпнуть полезной информации.\n",
    "Аналогичная ситуация с боксплотами."
   ]
  },
  {
   "cell_type": "markdown",
   "metadata": {},
   "source": [
    "График мощностей и частот с указанием в каких точках начался кризис"
   ]
  },
  {
   "cell_type": "code",
   "execution_count": 28,
   "metadata": {
    "pycharm": {
     "name": "#%%\n"
    }
   },
   "outputs": [
    {
     "data": {
      "text/plain": [
       "<matplotlib.collections.PathCollection at 0x20bbad77188>"
      ]
     },
     "execution_count": 28,
     "metadata": {},
     "output_type": "execute_result"
    },
    {
     "data": {
      "image/png": "[encoded data removed]",
      "text/plain": [
       "<Figure size 432x288 with 1 Axes>"
      ]
     },
     "metadata": {
      "needs_background": "light"
     },
     "output_type": "display_data"
    }
   ],
   "source": [
    "fig, ax = plt.subplots()\n",
    "ax.scatter(varPower, varPowerFrequency, c=target['index'])"
   ]
  },
  {
   "cell_type": "markdown",
   "metadata": {},
   "source": [
    "Графики двух случайных частот."
   ]
  },
  {
   "cell_type": "code",
   "execution_count": 29,
   "metadata": {
    "pycharm": {
     "name": "#%%\n"
    }
   },
   "outputs": [
    {
     "data": {
      "text/plain": [
       "<matplotlib.collections.PathCollection at 0x20bbae89608>"
      ]
     },
     "execution_count": 29,
     "metadata": {},
     "output_type": "execute_result"
    },
    {
     "data": {
      "image/png": "[encoded data removed]",
      "text/plain": [
       "<Figure size 432x288 with 1 Axes>"
      ]
     },
     "metadata": {
      "needs_background": "light"
     },
     "output_type": "display_data"
    },
    {
     "data": {
      "image/png": "[encoded data removed]",
      "text/plain": [
       "<Figure size 432x288 with 1 Axes>"
      ]
     },
     "metadata": {
      "needs_background": "light"
     },
     "output_type": "display_data"
    },
    {
     "data": {
      "image/png": "[encoded data removed]",
      "text/plain": [
       "<Figure size 432x288 with 1 Axes>"
      ]
     },
     "metadata": {
      "needs_background": "light"
     },
     "output_type": "display_data"
    }
   ],
   "source": [
    "fig, ax = plt.subplots()\n",
    "ax.scatter(0, varT[0][125], c='r')\n",
    "ax.scatter(12, varT[12][36], c='r')\n",
    "\n",
    "fig, ax = plt.subplots()\n",
    "ax.scatter(14, varT[14][146], c='r')\n",
    "ax.scatter(35, varT[35][78], c='b')\n",
    "\n",
    "fig, ax = plt.subplots()\n",
    "ax.scatter(54, varT[54][183], c='b')\n",
    "ax.scatter(2, varT[2][136], c='r')\n"
   ]
  },
  {
   "cell_type": "markdown",
   "metadata": {},
   "source": [
    "Применения 3-х методов кластеризации."
   ]
  },
  {
   "cell_type": "code",
   "execution_count": 30,
   "metadata": {
    "pycharm": {
     "name": "#%%\n"
    }
   },
   "outputs": [
    {
     "data": {
      "text/plain": [
       "array([0, 0, 0, 0, 0, 0, 0, 0, 0, 0, 0, 0, 0, 0, 0, 0, 0, 0, 0, 0, 0, 0,\n",
       "       0, 0, 0, 0, 0, 0, 0, 0, 0, 0, 0, 0, 0, 0, 0, 0, 0, 0, 0, 0, 0, 0,\n",
       "       0, 0, 0, 0, 0, 0, 0, 0, 0, 0, 0, 0, 0, 0, 1, 1, 1, 0, 0, 0, 0, 0,\n",
       "       0, 0, 0, 0, 0, 0, 0, 0, 0, 0, 0, 0, 0, 0, 0, 0, 0, 0, 0, 0, 0, 0,\n",
       "       0, 0, 0, 0, 1, 1, 1, 1, 0, 1, 1, 1, 1, 1, 1, 1, 1, 1, 1, 1, 1, 0,\n",
       "       0, 0, 0, 0, 0, 0, 0, 0, 0, 0, 0, 0, 0, 0, 0, 0, 0, 0, 0, 0, 0, 0,\n",
       "       0, 0, 0, 0, 0, 0, 0, 0, 0, 0, 0, 0, 0, 0, 0, 0, 0, 0, 0, 0, 0, 0,\n",
       "       0, 0, 0, 0, 0, 0, 0, 0, 0, 0, 0, 0, 0, 0, 0, 0, 0, 0, 0, 0, 0, 0,\n",
       "       0, 0, 0, 0, 0, 0, 0, 0, 0, 0, 0, 0, 0, 0, 0, 0, 0, 0, 0, 0, 0, 0,\n",
       "       0, 0])"
      ]
     },
     "execution_count": 30,
     "metadata": {},
     "output_type": "execute_result"
    }
   ],
   "source": [
    "kmeans = KMeans(n_clusters=2, random_state=0).fit(varT)\n",
    "kmeans.labels_"
   ]
  },
  {
   "cell_type": "code",
   "execution_count": 31,
   "metadata": {
    "pycharm": {
     "name": "#%%\n"
    }
   },
   "outputs": [
    {
     "data": {
      "text/plain": [
       "array([1, 1, 1, 1, 1, 1, 1, 1, 1, 1, 1, 1, 1, 1, 1, 1, 1, 1, 1, 1, 1, 1,\n",
       "       1, 1, 1, 1, 1, 1, 1, 1, 1, 1, 1, 1, 1, 1, 1, 1, 1, 1, 1, 1, 1, 1,\n",
       "       1, 1, 1, 1, 1, 1, 1, 1, 1, 1, 1, 1, 1, 0, 0, 0, 0, 1, 1, 1, 1, 1,\n",
       "       1, 1, 1, 1, 1, 1, 1, 1, 1, 1, 1, 1, 1, 1, 1, 1, 1, 1, 1, 1, 1, 1,\n",
       "       1, 1, 1, 1, 0, 0, 0, 0, 0, 0, 0, 0, 0, 0, 0, 0, 0, 0, 0, 0, 0, 1,\n",
       "       1, 1, 1, 1, 1, 1, 1, 1, 1, 1, 0, 0, 0, 1, 1, 1, 1, 1, 1, 1, 1, 1,\n",
       "       1, 1, 1, 1, 1, 1, 1, 1, 1, 1, 1, 1, 1, 1, 1, 1, 1, 1, 1, 1, 1, 1,\n",
       "       1, 1, 1, 1, 1, 1, 1, 1, 1, 1, 1, 1, 1, 1, 1, 1, 1, 1, 1, 1, 1, 1,\n",
       "       1, 1, 1, 1, 1, 1, 1, 1, 1, 1, 1, 1, 1, 1, 1, 1, 1, 1, 1, 1, 1, 1,\n",
       "       1, 1], dtype=int64)"
      ]
     },
     "execution_count": 31,
     "metadata": {},
     "output_type": "execute_result"
    }
   ],
   "source": [
    "clustering = AgglomerativeClustering(n_clusters=2).fit(varT)\n",
    "clustering\n",
    "clustering.labels_"
   ]
  },
  {
   "cell_type": "code",
   "execution_count": 32,
   "metadata": {
    "pycharm": {
     "name": "#%%\n"
    }
   },
   "outputs": [
    {
     "data": {
      "text/plain": [
       "array([0, 0, 0, 0, 0, 0, 0, 0, 0, 0, 0, 0, 0, 0, 0, 0, 0, 0, 0, 0, 0, 0,\n",
       "       0, 0, 0, 0, 0, 0, 0, 0, 0, 0, 0, 0, 0, 0, 0, 0, 0, 0, 0, 0, 0, 0,\n",
       "       0, 0, 0, 0, 0, 0, 0, 0, 0, 0, 0, 0, 0, 0, 1, 1, 1, 0, 0, 0, 0, 0,\n",
       "       0, 0, 0, 0, 0, 0, 0, 0, 0, 0, 0, 0, 0, 0, 0, 0, 0, 0, 0, 0, 0, 0,\n",
       "       0, 0, 0, 0, 0, 1, 0, 0, 0, 0, 0, 0, 0, 0, 0, 0, 0, 0, 1, 1, 1, 0,\n",
       "       0, 0, 0, 0, 0, 0, 0, 0, 0, 0, 0, 0, 0, 0, 0, 0, 0, 0, 0, 0, 0, 0,\n",
       "       0, 0, 0, 0, 0, 0, 0, 0, 0, 0, 0, 0, 0, 0, 0, 0, 0, 0, 0, 0, 0, 0,\n",
       "       0, 0, 0, 0, 0, 0, 0, 0, 0, 0, 0, 0, 0, 0, 0, 0, 0, 0, 0, 0, 0, 0,\n",
       "       0, 0, 0, 0, 0, 0, 0, 0, 0, 0, 0, 0, 0, 0, 0, 0, 0, 0, 0, 0, 0, 0,\n",
       "       0, 0])"
      ]
     },
     "execution_count": 32,
     "metadata": {},
     "output_type": "execute_result"
    }
   ],
   "source": [
    "clustering = SpectralBiclustering(n_clusters=2, random_state=0).fit(varT)\n",
    "clustering.row_labels_"
   ]
  },
  {
   "cell_type": "code",
   "execution_count": 33,
   "metadata": {
    "pycharm": {
     "name": "#%%\n"
    }
   },
   "outputs": [
    {
     "data": {
      "text/plain": [
       "array([0, 0, 0, 0, 0, 0, 0, 0, 0, 0, 0, 0, 0, 0, 0, 0, 0, 0, 0, 0, 0, 0,\n",
       "       1, 0, 0, 0, 0, 0, 0, 0, 1, 0, 0, 1, 1, 1, 1, 0, 1, 0, 1, 1, 0, 0,\n",
       "       1, 1, 0, 1, 1, 0, 1, 1, 1, 1, 1, 1, 1, 1, 1, 0])"
      ]
     },
     "execution_count": 33,
     "metadata": {},
     "output_type": "execute_result"
    }
   ],
   "source": [
    "clustering.column_labels_\n"
   ]
  },
  {
   "cell_type": "markdown",
   "metadata": {
    "pycharm": {
     "name": "#%% md\n"
    }
   },
   "source": [
    "Вопросы."
   ]
  },
  {
   "cell_type": "markdown",
   "metadata": {
    "pycharm": {
     "name": "#%% md\n"
    }
   },
   "source": [
    "1.\tКакие существуют алгоритмы кластерного анализа данных?\n",
    "\n",
    "Кластеризация (или кластерный анализ) — это задача разбиения множества объектов на группы, называемые кластерами. Внутри каждой группы должны оказаться «похожие» объекты, а объекты разных группы должны быть как можно более отличны. Главное отличие кластеризации от классификации состоит в том, что перечень групп четко не задан и определяется в процессе работы алгоритма.\n",
    "Алгоритмы иерархической кластеризации\n",
    "\n",
    "a) Алгоритмы иерархической кластеризации\n",
    "\n",
    "Среди алгоритмов иерархической кластеризации выделяются два основных типа: восходящие и нисходящие алгоритмы. Нисходящие алгоритмы работают по принципу «сверху-вниз»: в начале все объекты помещаются в один кластер, который затем разбивается на все более мелкие кластеры. Более распространены восходящие алгоритмы, которые в начале работы помещают каждый объект в отдельный кластер, а затем объединяют кластеры во все более крупные, пока все объекты выборки не будут содержаться в одном кластере. Таким образом строится система вложенных разбиений. Результаты таких алгоритмов обычно представляют в виде дерева – дендрограммы. Классический пример такого дерева – классификация животных и растений.\n",
    "\n",
    "Для вычисления расстояний между кластерами чаще все пользуются двумя расстояниями: одиночной связью или полной связью (см. обзор мер расстояний между кластерами).\n",
    "\n",
    "К недостатку иерархических алгоритмов можно отнести систему полных разбиений, которая может являться излишней в контексте решаемой задачи.\n",
    "\n",
    "б)  Алгоритм выделения связных компонент\n",
    "\n",
    "В алгоритме выделения связных компонент задается входной параметр R и в графе удаляются все ребра, для которых «расстояния» больше R. Соединенными остаются только наиболее близкие пары объектов. Смысл алгоритма заключается в том, чтобы подобрать такое значение R, лежащее в диапазон всех «расстояний», при котором граф «развалится» на несколько связных компонент. Полученные компоненты и есть кластеры.\n",
    "\n",
    "Для подбора параметра R обычно строится гистограмма распределений попарных расстояний. В задачах с хорошо выраженной кластерной структурой данных на гистограмме будет два пика – один соответствует внутрикластерным расстояниям, второй – межкластерным расстояния. Параметр R подбирается из зоны минимума между этими пиками. При этом управлять количеством кластеров при помощи порога расстояния довольно затруднительно.\n",
    "\n",
    "в) Алгоритм выделения связных компонент\n",
    "\n",
    "В алгоритме выделения связных компонент задается входной параметр R и в графе удаляются все ребра, для которых «расстояния» больше R. Соединенными остаются только наиболее близкие пары объектов. Смысл алгоритма заключается в том, чтобы подобрать такое значение R, лежащее в диапазон всех «расстояний», при котором граф «развалится» на несколько связных компонент. Полученные компоненты и есть кластеры.\n",
    "\n",
    "Для подбора параметра R обычно строится гистограмма распределений попарных расстояний. В задачах с хорошо выраженной кластерной структурой данных на гистограмме будет два пика – один соответствует внутрикластерным расстояниям, второй – межкластерным расстояния. Параметр R подбирается из зоны минимума между этими пиками. При этом управлять количеством кластеров при помощи порога расстояния довольно затруднительно."
   ]
  },
  {
   "cell_type": "markdown",
   "metadata": {
    "pycharm": {
     "name": "#%% md\n"
    }
   },
   "source": [
    "3.\tКаким способом можно повысить качество работы алгоритмов кластеризации?\n",
    "\n",
    "Как минимум за счет выбора информативных признаков из исходного набора данных."
   ]
  }
 ],
 "metadata": {
  "kernelspec": {
   "display_name": "Python 3",
   "language": "python",
   "name": "python3"
  },
  "language_info": {
   "codemirror_mode": {
    "name": "ipython",
    "version": 3
   },
   "file_extension": ".py",
   "mimetype": "text/x-python",
   "name": "python",
   "nbconvert_exporter": "python",
   "pygments_lexer": "ipython3",
   "version": "3.7.4"
  }
 },
 "nbformat": 4,
 "nbformat_minor": 1
}